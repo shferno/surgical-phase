{
 "cells": [
  {
   "cell_type": "markdown",
   "metadata": {},
   "source": [
    "# SV-RCNet"
   ]
  },
  {
   "cell_type": "code",
   "execution_count": 2,
   "metadata": {},
   "outputs": [],
   "source": [
    "# imports\n",
    "import torch\n",
    "from torch.utils.data import Dataset, DataLoader, random_split, SequentialSampler, RandomSampler, BatchSampler\n",
    "from torchvision import models, transforms\n",
    "from torch import nn, optim\n",
    "\n",
    "from PIL import Image\n",
    "import numpy as np\n",
    "import pandas as pd\n",
    "from matplotlib import pyplot as plt\n",
    "\n",
    "from utils.clean_labels import clean_labels\n",
    "from utils.mydataset import SVRCDataset\n",
    "\n",
    "import os\n",
    "from datetime import datetime\n",
    "import random\n",
    "import time\n",
    "\n",
    "%load_ext autoreload\n",
    "%autoreload 2"
   ]
  },
  {
   "cell_type": "markdown",
   "metadata": {},
   "source": [
    "## Data Preprocessing"
   ]
  },
  {
   "cell_type": "markdown",
   "metadata": {},
   "source": [
    "### Extract frames"
   ]
  },
  {
   "cell_type": "code",
   "execution_count": 6,
   "metadata": {},
   "outputs": [
    {
     "name": "stdout",
     "output_type": "stream",
     "text": [
      "['RALIHR_surgeon01_fps01_0071.mp4', 'RALIHR_surgeon01_fps01_0002.mp4', 'RALIHR_surgeon01_fps01_0001.mp4']\n"
     ]
    }
   ],
   "source": [
    "# put videos here!\n",
    "#video_base = 'D:/e6691/6691_assignment2/videos'\n",
    "video_base = 'data/videos'\n",
    "videos = [v for v in os.listdir(video_base) if v.endswith('mp4')]\n",
    "# images will be output to here'\n",
    "print(videos)\n",
    "#image_base = 'D:/e6691/6691_assignment2/images'\n",
    "image_base = 'data/images'\n",
    "if not os.path.exists(image_base):\n",
    "    os.mkdir(image_base)"
   ]
  },
  {
   "cell_type": "code",
   "execution_count": null,
   "metadata": {},
   "outputs": [],
   "source": [
    "# command line: \n",
    "# ffmpeg -i {input_video} -r {frame_rate} [-f {force_format} (not needed)] {output_images}\n",
    "# doc: https://ffmpeg.org/ffmpeg.html\n",
    "for video in videos:\n",
    "    input_path = os.path.join(video_base, video)\n",
    "    # make dirs\n",
    "    output_base = image_base + '/{}'.format(video.split('.')[0])\n",
    "    if not os.path.exists(output_base):\n",
    "        os.mkdir(output_base)\n",
    "    output_path = os.path.join(output_base, '%d.png')\n",
    "    # command\n",
    "    print('Frames extracted from {} to {}'.format(input_path, output_path))\n",
    "    #!ffmpeg -i {input_path} -r 1 {output_path}"
   ]
  },
  {
   "cell_type": "markdown",
   "metadata": {},
   "source": [
    "### Extract labels"
   ]
  },
  {
   "cell_type": "code",
   "execution_count": 18,
   "metadata": {},
   "outputs": [],
   "source": [
    "# some useless rows are manually deleted\n",
    "# labels_path = 'D:/e6691/6691_assignment2'\n",
    "labels_path = 'data/labels/video.phase.trainingData.clean.StudentVersion.csv'\n",
    "# names_path = 'D:/e6691/6691_assignment2'\n",
    "names_path = 'data/labels/all_labels_hernia.csv'\n",
    "\n",
    "# this is already a cleaned file\n",
    "labels_df = pd.read_csv(labels_path)\n",
    "names_df = pd.read_csv(names_path, names=['Name'])"
   ]
  },
  {
   "cell_type": "code",
   "execution_count": 29,
   "metadata": {},
   "outputs": [],
   "source": [
    "# clean\n",
    "labels_df_cleaned = clean_labels(labels_df, names_df)\n",
    "labels_df_cleaned.to_csv('data/labels/phase_trainingData_clean.csv')\n",
    "# drop 'access' and 'acquiring suture'\n",
    "#names_df_cleaned = names_df.iloc[2:].reset_index(drop=True)"
   ]
  },
  {
   "cell_type": "code",
   "execution_count": null,
   "metadata": {},
   "outputs": [],
   "source": [
    "# convert time string to int\n",
    "# start time\n",
    "t0 = datetime(1900, 1, 1)\n",
    "def time2int(t):\n",
    "    # if convertable\n",
    "    return (\n",
    "        # time given in MM:SS\n",
    "        datetime.strptime(t, '%M:%S') - t0\n",
    "    ).seconds if len(t.split(':')) == 2 else (\n",
    "        # time given in HH:MM:SS\n",
    "        datetime.strptime(t, '%H:%M:%S') - t0\n",
    "    ).seconds\n",
    "\n",
    "# extract names\n",
    "for video in videos:\n",
    "    images = os.listdir(os.path.join(image_base, video.split('.')[0]))\n",
    "    # get df corresponding to current video\n",
    "    video_df = labels_df_cleaned.loc[labels_df_cleaned['videoName'] == video.split('.')[0]]\n",
    "    # add two columns\n",
    "    video_df[['StartSec', 'EndSec']] = video_df[['Start', 'End']].applymap(time2int)\n",
    "    # 这warning好烦但我懒得改了\n",
    "    for image in images:\n",
    "        # check paths\n",
    "        base = os.path.join(image_base, video.split('.')[0])\n",
    "        path = os.path.join(base, image)\n",
    "        # if '-' in image:\n",
    "        #     continue\n",
    "        t = int(image.split('.')[0].split('-')[0])\n",
    "        # select interval and remove tailing digits\n",
    "        name = video_df[\n",
    "            (video_df['StartSec'] <= t) & (t <= video_df['EndSec'])\n",
    "        ]['PhaseNameClean'].iloc[0]\n",
    "        # find correct integer labels\n",
    "        label = names_df[names_df['Name'] == name].index[0]\n",
    "        # incorperate label into filenames\n",
    "        if '-' not in path:\n",
    "            # avoid renaming twice\n",
    "            #new_path = ''.join(path.split('.')[:-1]) + '-{}.'.format(label) + path.split('.')[-1]\n",
    "            new_path = '{}-{}.{}'.format(''.join(path.split('.')[:-1]), label, path.split('.')[-1])\n",
    "        else:\n",
    "            #new_path = path.split('-')[0] + '-' + str(label) + '.' + path.split('-')[1].split('.')[1]\n",
    "            new_path = '{}-{}.{}'.format(path.split('-')[0], label, path.split('-')[1].split('.')[1])\n",
    "        # rename all files\n",
    "        os.rename(path, new_path)"
   ]
  },
  {
   "cell_type": "markdown",
   "metadata": {},
   "source": [
    "## Dataset Construction"
   ]
  },
  {
   "cell_type": "code",
   "execution_count": 3,
   "metadata": {},
   "outputs": [],
   "source": [
    "# Data properties\n",
    "num_labels = 14"
   ]
  },
  {
   "cell_type": "code",
   "execution_count": null,
   "metadata": {},
   "outputs": [],
   "source": [
    "# get all images and labels\n",
    "image_paths = []\n",
    "labels = []\n",
    "\n",
    "for video in sorted(videos)[:1]:\n",
    "    base = os.path.join(image_base, video.split('.')[0])\n",
    "    image_paths.append(list(map(\n",
    "        lambda img: base + '/' + img if img.endswith('.png') else None, \n",
    "        os.listdir(base)\n",
    "    )))\n",
    "\n",
    "\n",
    "image_paths = [list(filter(None, images)) for images in image_paths]\n",
    "#image_paths = [list(sorted(images, key=sort_images)) for images in image_paths]\n",
    "\n",
    "labels = [\n",
    "    [int(img.split('.')[0].split('-')[1]) for img in images]\n",
    "    for images in image_paths\n",
    "]\n",
    "list(zip(image_paths[0], labels[0]))"
   ]
  },
  {
   "cell_type": "code",
   "execution_count": 44,
   "metadata": {},
   "outputs": [],
   "source": [
    "# define transforms\n",
    "data_transform = {\n",
    "    'train': transforms.Compose([\n",
    "        #transforms.Resize((32,32)),\n",
    "        transforms.RandomHorizontalFlip(), \n",
    "        transforms.RandomVerticalFlip(),\n",
    "        transforms.RandomResizedCrop(size=(32,32), scale=(0.4,1.0), ratio=(1.0,1.0)),\n",
    "        transforms.ToTensor(),\n",
    "        transforms.Normalize(mean=[0.485], std=[0.229])\n",
    "    ]), \n",
    "    'valid': transforms.Compose([\n",
    "        transforms.Resize((32,32)),\n",
    "        transforms.ToTensor(),\n",
    "        transforms.Normalize(mean=[0.485], std=[0.229])\n",
    "    ])\n",
    "}"
   ]
  },
  {
   "cell_type": "code",
   "execution_count": 45,
   "metadata": {},
   "outputs": [],
   "source": [
    "# get training set\n",
    "train_set = SVRCDataset(\n",
    "    image_paths[0], \n",
    "    labels[0], \n",
    "    data_transform['train']\n",
    ")"
   ]
  },
  {
   "cell_type": "code",
   "execution_count": 46,
   "metadata": {},
   "outputs": [],
   "source": [
    "# get dataloader\n",
    "train_loader = DataLoader(train_set, batch_size = 8, shuffle = True, num_workers = 0)"
   ]
  },
  {
   "cell_type": "code",
   "execution_count": 50,
   "metadata": {},
   "outputs": [],
   "source": [
    "n = next(iter(train_loader))\n",
    "X = n['feature']\n",
    "y = n['label']"
   ]
  },
  {
   "cell_type": "markdown",
   "metadata": {},
   "source": [
    "## Data Visualization"
   ]
  },
  {
   "cell_type": "code",
   "execution_count": 51,
   "metadata": {},
   "outputs": [],
   "source": [
    "# fishnet曹老师的代码\n",
    "def plot(x,y):\n",
    "    \"\"\"\n",
    "    Plot random images for verification\n",
    "    \"\"\"\n",
    "\n",
    "    fig = plt.figure(figsize=(16,8))\n",
    "    plt.subplots_adjust(top=1.2)\n",
    "    col = 4\n",
    "    row = 2\n",
    "    print(str(col*row)+\" Random images and their labels\")\n",
    "    ri = random.sample(range(0,len(x)),col*row)\n",
    "    rii = 0\n",
    "    for i in range(1, col*row+1):\n",
    "        img = np.copy(x[ri[rii]])\n",
    "        img = np.asarray(img, dtype=np.float32)\n",
    "        fig.add_subplot(row,col,i)\n",
    "        x_label = 'Label : ' + str(y[ri[rii]])\n",
    "        plt.xlabel(x_label)\n",
    "        img = img/np.amax(img)\n",
    "        img = np.clip(img, 0, 1)\n",
    "        # shift for pytorch\n",
    "        plt.imshow(np.moveaxis(img, 0, -1), interpolation = 'nearest')\n",
    "        rii = rii + 1\n",
    "    _ = plt.show()"
   ]
  },
  {
   "cell_type": "code",
   "execution_count": 52,
   "metadata": {},
   "outputs": [
    {
     "name": "stdout",
     "output_type": "stream",
     "text": [
      "8 Random images and their labels\n"
     ]
    },
    {
     "data": {
      "image/png": "[encoded data removed]",
      "text/plain": [
       "<Figure size 1152x576 with 8 Axes>"
      ]
     },
     "metadata": {
      "needs_background": "light"
     },
     "output_type": "display_data"
    }
   ],
   "source": [
    "plot(X, y)"
   ]
  },
  {
   "cell_type": "markdown",
   "metadata": {},
   "source": [
    "## class SVRCDataset"
   ]
  },
  {
   "cell_type": "code",
   "execution_count": 57,
   "metadata": {},
   "outputs": [],
   "source": [
    "class SVRCDataset(Dataset):\n",
    "    def __init__(self, image_path: list, image_class: list, transform = None):\n",
    "        self.image_path = image_path\n",
    "        self.image_class = image_class\n",
    "        self.transform = transform\n",
    "\n",
    "    def __len__(self):\n",
    "        return len(self.image_path)\n",
    "\n",
    "    def __getitem__(self, item): #can add more rules to pick data\n",
    "        img = Image.open(self.image_path[item])\n",
    "        label = self.image_class[item]\n",
    "        if self.transform is not None:\n",
    "            img = self.transform(img)\n",
    "\n",
    "        return {'feature': img, 'label': label}\n",
    "\n",
    "class MyDataset(Dataset):\n",
    "    def __init__(self, labels, features):\n",
    "        super(MyDataset, self).__init__()\n",
    "        self.labels = labels\n",
    "        self.features = features\n",
    "    \n",
    "    def __len__(self):\n",
    "        return self.features.shape[0]\n",
    "    \n",
    "    def __getitem__(self, idx: int):\n",
    "        feature = self.features[idx]\n",
    "        label = self.labels[idx]\n",
    "        return {'feature': feature, 'label': label}"
   ]
  },
  {
   "cell_type": "markdown",
   "metadata": {},
   "source": [
    "## class Train"
   ]
  },
  {
   "cell_type": "code",
   "execution_count": 23,
   "metadata": {},
   "outputs": [],
   "source": [
    "# Training parameters\n",
    "LR = 1e-3\n",
    "BATCH_SIZE = 64\n",
    "EPOCHS = 10\n",
    "\n",
    "class Train(object):\n",
    "    def __init__(self, model) -> None:\n",
    "        self.model = model\n",
    "        self.optimizer = optim.Adam(self.model.parameters(), lr=LR)\n",
    "        self.criterion = nn.CrossEntropyLoss()\n",
    "        self.shuffle = True\n",
    "    \n",
    "    def train(self, labels, features, transform):\n",
    "        self.model.train()\n",
    "        dataset = SVRCDataset(features, labels, transform)\n",
    "        loader = DataLoader(dataset, batch_size = BATCH_SIZE, shuffle = self.shuffle)\n",
    "        for epoch in range(EPOCHS):\n",
    "            train_loss = 0.0\n",
    "            train_acc = 0\n",
    "            for i, data in enumerate(loader):\n",
    "                features  = data['feature'].float()\n",
    "                labels = data['label']\n",
    "\n",
    "                self.optimizer.zero_grad()\n",
    "                predictions = self.model(features)\n",
    "                loss = self.criterion(predictions, labels)\n",
    "                loss.backward()\n",
    "                self.optimizer.step()\n",
    "\n",
    "                train_loss += loss.item()\n",
    "                preds = torch.max(predictions.data, 1)[1]\n",
    "                train_acc += (preds==labels).sum().item()\n",
    "\n",
    "            train_loss /= len(dataset)\n",
    "            train_acc /= len(dataset)\n",
    "            if epoch==0 or (epoch+1)%1==0:\n",
    "                print('Epoch[{}/{}] loss:{:.3} | acc:{:.4}'.format(epoch+1, EPOCHS, train_loss, train_acc))"
   ]
  },
  {
   "cell_type": "code",
   "execution_count": null,
   "metadata": {},
   "outputs": [],
   "source": [
    "dataset = SVRCDataset(image_paths, labels, data_transform['train'])\n",
    "loader = DataLoader(dataset, batch_size = BATCH_SIZE, shuffle = True)\n",
    "next(iter(loader))"
   ]
  },
  {
   "cell_type": "code",
   "execution_count": 17,
   "metadata": {},
   "outputs": [
    {
     "name": "stdout",
     "output_type": "stream",
     "text": [
      "11\n"
     ]
    }
   ],
   "source": [
    "print(len(set(labels)))"
   ]
  },
  {
   "cell_type": "markdown",
   "metadata": {},
   "source": [
    "## class CNN"
   ]
  },
  {
   "cell_type": "code",
   "execution_count": 21,
   "metadata": {},
   "outputs": [],
   "source": [
    "class CNN(nn.Module):\n",
    "    def __init__(self):\n",
    "        super(CNN,self).__init__()\n",
    "        self.conv1 = nn.Sequential(\n",
    "            nn.Conv2d(3,6,5,1,2),\n",
    "            nn.ReLU(),\n",
    "            nn.MaxPool2d(kernel_size=2),\n",
    "        )\n",
    "        self.conv2 = nn.Sequential(\n",
    "            nn.Conv2d(6,16,5,1,2),\n",
    "            nn.ReLU(),\n",
    "            nn.MaxPool2d(2),\n",
    "        )\n",
    "        self.fc1 = nn.Sequential(nn.Linear(16*8*8, 512), nn.ReLU(),)\n",
    "        self.fc2 = nn.Sequential(nn.Linear(512, 128), nn.ReLU(),)\n",
    "        self.out = nn.Linear(128,num_labels)\n",
    "    \n",
    "    def forward(self, x):\n",
    "        x = self.conv1(x)\n",
    "        x = self.conv2(x)\n",
    "        x = torch.flatten(x, 1)\n",
    "        x = self.fc1(x)\n",
    "        x = self.fc2(x)\n",
    "        x = self.out(x)\n",
    "        return x\n",
    "\n",
    "    def predict(self, features):\n",
    "        self.eval()\n",
    "        features = torch.from_numpy(features).float()\n",
    "        labels = self.forward(features).detach().numpy()\n",
    "        labels = np.argmax(labels, axis=1)\n",
    "        return labels"
   ]
  },
  {
   "cell_type": "markdown",
   "metadata": {},
   "source": [
    "## CNN results"
   ]
  },
  {
   "cell_type": "code",
   "execution_count": null,
   "metadata": {},
   "outputs": [],
   "source": [
    "# Weights path\n",
    "WeightsPath = './models/weights'\n",
    "\n",
    "# Data Preprocessing\n",
    "\n",
    "#N,C,H,W = 10, 3, 224, 224\n",
    "#X = np.zeros((N,C,H,W))\n",
    "#y = np.zeros((N,))\n",
    "X = image_paths\n",
    "y = labels\n",
    "#model = ResNet()\n",
    "model = CNN()\n",
    "print(model)\n",
    "start_time = time.time()\n",
    "\n",
    "trainer = Train(model)\n",
    "trainer.train(y, X, data_transform['train'])\n",
    "\n",
    "end_time = time.time()\n",
    "print('Time:{:.2}min'.format((end_time-start_time)/60.0))\n",
    "\n",
    "torch.save(model.state_dict(),WeightsPath)\n",
    "\n",
    "#model = SVRC()\n",
    "#model.load_state_dict(torch.load(WeightsPath))"
   ]
  },
  {
   "cell_type": "markdown",
   "metadata": {},
   "source": [
    "## resnet18 results"
   ]
  },
  {
   "cell_type": "code",
   "execution_count": null,
   "metadata": {},
   "outputs": [],
   "source": [
    "# Data\n",
    "X = image_paths\n",
    "y = labels\n",
    "model = models.resnet18()\n",
    "model.fc = nn.Linear(512,num_labels)\n",
    "print(model)\n",
    "start_time = time.time()\n",
    "\n",
    "trainer = Train(model)\n",
    "trainer.train(y, X, data_transform['train'])\n",
    "\n",
    "end_time = time.time()\n",
    "print('Time:{:.2}min'.format((end_time-start_time)/60.0))"
   ]
  },
  {
   "cell_type": "code",
   "execution_count": 30,
   "metadata": {},
   "outputs": [
    {
     "data": {
      "text/plain": [
       "4470"
      ]
     },
     "execution_count": 30,
     "metadata": {},
     "output_type": "execute_result"
    }
   ],
   "source": [
    "len(dataset)"
   ]
  },
  {
   "cell_type": "markdown",
   "metadata": {},
   "source": [
    "## Validation"
   ]
  },
  {
   "cell_type": "code",
   "execution_count": 58,
   "metadata": {},
   "outputs": [],
   "source": [
    "# train-val\n",
    "train = SVRCDataset(image_paths[:4000], labels[:4000], data_transform['train'])\n",
    "test = SVRCDataset(image_paths[4000:], labels[4000:], data_transform['train'])\n",
    "train_loader = DataLoader(train, batch_size = BATCH_SIZE, shuffle = True)\n",
    "test_loader = DataLoader(test, batch_size = BATCH_SIZE, shuffle = True)\n",
    "#next(iter(train_loader))"
   ]
  },
  {
   "cell_type": "code",
   "execution_count": null,
   "metadata": {},
   "outputs": [],
   "source": [
    "next(iter(train_loader))"
   ]
  },
  {
   "cell_type": "markdown",
   "metadata": {},
   "source": [
    "## class TrainVal"
   ]
  },
  {
   "cell_type": "code",
   "execution_count": 70,
   "metadata": {},
   "outputs": [],
   "source": [
    "# Training parameters\n",
    "LR = 1e-3\n",
    "BATCH_SIZE = 64\n",
    "EPOCHS = 10\n",
    "\n",
    "class TrainVal(object):\n",
    "    def __init__(self, model) -> None:\n",
    "        self.model = model\n",
    "        self.optimizer = optim.Adam(self.model.parameters(), lr=LR)\n",
    "        self.criterion = nn.CrossEntropyLoss()\n",
    "        self.shuffle = True\n",
    "\n",
    "    def train(self, labels, features, transform):\n",
    "        self.model.train()\n",
    "        dataset = SVRCDataset(image_paths, labels, transform)\n",
    "        train, test = random_split(dataset, [4000,470])\n",
    "        train_loader = DataLoader(train, batch_size = BATCH_SIZE, shuffle = self.shuffle)\n",
    "        test_loader = DataLoader(test, batch_size = BATCH_SIZE, shuffle = self.shuffle)\n",
    "        for epoch in range(EPOCHS):\n",
    "            train_loss = 0.0\n",
    "            train_acc = 0.0\n",
    "            for i, data in enumerate(train_loader):\n",
    "                features  = data['feature'].float()\n",
    "                labels = data['label']\n",
    "\n",
    "                self.optimizer.zero_grad()\n",
    "                predictions = self.model(features)\n",
    "                loss = self.criterion(predictions, labels)\n",
    "                loss.backward()\n",
    "                self.optimizer.step()\n",
    "\n",
    "                train_loss += loss.item()\n",
    "                preds = torch.max(predictions.data, 1)[1]\n",
    "                train_acc += (preds==labels).sum().item()\n",
    "\n",
    "            train_loss /= len(train)\n",
    "            train_acc /= len(train)\n",
    "\n",
    "            valid_loss = 0.0\n",
    "            valid_acc = 0.0\n",
    "            total = 0\n",
    "            self.model.eval()\n",
    "            for i, data in enumerate(test_loader):\n",
    "                features = data['feature']\n",
    "                labels = data['label']\n",
    "                \n",
    "                predictions = self.model(features)\n",
    "                loss = self.criterion(predictions,labels)\n",
    "                valid_loss += loss.item()\n",
    "                \n",
    "                preds = torch.max(predictions.data, 1)[1]\n",
    "                valid_acc += (preds==labels).sum().item()\n",
    "                total += features.size(0)\n",
    "            \n",
    "            valid_loss /= len(test)\n",
    "            valid_acc /= len(test)\n",
    "            \n",
    "            print(\n",
    "                f'Epoch {epoch+1} Training Loss: {train_loss} Validation Loss: {valid_loss} || '\n",
    "                f'Train_acc: {train_acc} Valid_acc: {valid_acc}'\n",
    "            )    "
   ]
  },
  {
   "cell_type": "markdown",
   "metadata": {},
   "source": [
    "## Validation results"
   ]
  },
  {
   "cell_type": "code",
   "execution_count": null,
   "metadata": {},
   "outputs": [],
   "source": [
    "# Data\n",
    "X = image_paths\n",
    "y = labels\n",
    "# Model\n",
    "model = models.resnet18()\n",
    "model.fc = nn.Linear(512,num_labels)\n",
    "print(model)\n",
    "\n",
    "start_time = time.time()\n",
    "\n",
    "trainer = TrainVal(model)\n",
    "trainer.train(y, X, data_transform['train'])\n",
    "\n",
    "end_time = time.time()\n",
    "print('Time:{:.2}min'.format((end_time-start_time)/60.0))"
   ]
  },
  {
   "cell_type": "markdown",
   "metadata": {},
   "source": [
    "## Pretrain\n",
    "### Pretarin the resnet18 (pretrained on imagenet) on our datset."
   ]
  },
  {
   "cell_type": "code",
   "execution_count": null,
   "metadata": {},
   "outputs": [],
   "source": [
    "# Weights path\n",
    "WeightsPath = './models/weights'\n",
    "\n",
    "# Data\n",
    "X = image_paths\n",
    "y = labels\n",
    "model = models.resnet18(pretrained=True)\n",
    "model.fc = nn.Linear(512,num_labels)\n",
    "trainer = Train(model)\n",
    "trainer.train(y, X, data_transform['train'])\n",
    "\n",
    "torch.save(model.state_dict(),WeightsPath)"
   ]
  },
  {
   "cell_type": "markdown",
   "metadata": {},
   "source": [
    "## class SVRCNet"
   ]
  },
  {
   "cell_type": "code",
   "execution_count": 73,
   "metadata": {},
   "outputs": [],
   "source": [
    "# Training parameters\n",
    "LR = 1e-3\n",
    "BATCH_SIZE = 30\n",
    "EPOCHS = 10"
   ]
  },
  {
   "cell_type": "code",
   "execution_count": 62,
   "metadata": {},
   "outputs": [],
   "source": [
    "class SVRC(nn.Module):\n",
    "    def __init__(self):\n",
    "        super(SVRC,self).__init__()\n",
    "        # ResNet-18\n",
    "        self.resnet18 = nn.Sequential(*(\n",
    "            list(\n",
    "                models.resnet18(pretrained=True).children()\n",
    "            )[:-1]\n",
    "        ))\n",
    "        #self.resnet18.eval()\n",
    "        self.pretrain = True\n",
    "        # LSTM\n",
    "        self.lstm = nn.LSTM(512,512)\n",
    "        self.lstm_states = None\n",
    "        # FC\n",
    "        self.full = nn.Linear(512,num_labels)\n",
    "\n",
    "    def forward(self,x):\n",
    "        x = self.resnet18(x)\n",
    "        # Reshape\n",
    "        #print(x.shape)\n",
    "        if not self.pretrain:\n",
    "            x = x.view(3,10,-1) # time step, batch size\n",
    "            x,s = self.lstm(x, self.lstm_states)\n",
    "            # save lstm states\n",
    "            self.lstm_states = (s[0].detach(), s[1].detach())\n",
    "        x = self.full(x.view(-1,512))\n",
    "        return x #if self.pretrain else nn.Softmax(1)(x).view(30,-1)"
   ]
  },
  {
   "cell_type": "markdown",
   "metadata": {},
   "source": [
    "## Load weights and train SVRCNet"
   ]
  },
  {
   "cell_type": "code",
   "execution_count": 70,
   "metadata": {},
   "outputs": [],
   "source": [
    "class SVRCDataset(Dataset):\n",
    "    def __init__(self, image_path: list, image_class: list, transform = None):\n",
    "        self.image_path = image_path\n",
    "        self.image_class = image_class\n",
    "        self.transform = transform\n",
    "\n",
    "    def __len__(self):\n",
    "        return len(self.image_path)\n",
    "\n",
    "    def __getitem__(self, item): #can add more rules to pick data\n",
    "        img = Image.open(self.image_path[item])\n",
    "        label = self.image_class[item]\n",
    "        if self.transform is not None:\n",
    "            img = self.transform(img)\n",
    "\n",
    "        return {'feature': img, 'label': label}"
   ]
  },
  {
   "cell_type": "code",
   "execution_count": 43,
   "metadata": {},
   "outputs": [],
   "source": [
    "def sort_images(x):\n",
    "    vid = int(x[0].split('_')[-1].split('/')[0])\n",
    "    frame = int(x[0].split('/')[-1].split('-')[0])\n",
    "    return vid*7200 + frame"
   ]
  },
  {
   "cell_type": "code",
   "execution_count": 44,
   "metadata": {},
   "outputs": [],
   "source": [
    "image_paths_lstm = []\n",
    "labels_lstm = []\n",
    "for path,label in sorted(zip(image_paths, labels), key=sort_images):\n",
    "    image_paths_lstm.append(path)\n",
    "    labels_lstm.append(label)"
   ]
  },
  {
   "cell_type": "code",
   "execution_count": null,
   "metadata": {},
   "outputs": [],
   "source": [
    "sorted(zip(image_paths, labels), key=sort_images)"
   ]
  },
  {
   "cell_type": "code",
   "execution_count": 81,
   "metadata": {},
   "outputs": [],
   "source": [
    "#next(iter(train_loader))\n",
    "train = SVRCDataset(image_paths_lstm[:1500], labels_lstm[:1500], data_transform['train'])\n",
    "test = SVRCDataset(image_paths_lstm[1500:], labels_lstm[1500:], data_transform['train'])\n",
    "train_loader = DataLoader(\n",
    "    train, batch_sampler=BatchSampler(\n",
    "        RandomSampler(train) if False else SequentialSampler(train), \n",
    "        BATCH_SIZE, \n",
    "        drop_last=True\n",
    "    )\n",
    ")\n",
    "test_loader = DataLoader(\n",
    "    test, batch_sampler=BatchSampler(\n",
    "        RandomSampler(test) if False else SequentialSampler(test), \n",
    "        BATCH_SIZE, \n",
    "        drop_last=True\n",
    "    )\n",
    ")"
   ]
  },
  {
   "cell_type": "code",
   "execution_count": 82,
   "metadata": {},
   "outputs": [
    {
     "data": {
      "text/plain": [
       "<torch.utils.data.dataloader.DataLoader at 0x7fc1c8f5ed30>"
      ]
     },
     "execution_count": 82,
     "metadata": {},
     "output_type": "execute_result"
    }
   ],
   "source": [
    "train_loader"
   ]
  },
  {
   "cell_type": "code",
   "execution_count": null,
   "metadata": {
    "scrolled": true
   },
   "outputs": [],
   "source": [
    "for i,b in enumerate(train_loader):\n",
    "    print(b['label'])"
   ]
  },
  {
   "cell_type": "code",
   "execution_count": 46,
   "metadata": {},
   "outputs": [
    {
     "data": {
      "text/plain": [
       "1967"
      ]
     },
     "execution_count": 46,
     "metadata": {},
     "output_type": "execute_result"
    }
   ],
   "source": [
    "len(image_paths)"
   ]
  },
  {
   "cell_type": "code",
   "execution_count": 106,
   "metadata": {},
   "outputs": [],
   "source": [
    "# Training parameters LSTM\n",
    "LR = 1e-3\n",
    "BATCH_SIZE = 30\n",
    "EPOCHS = 5\n",
    "TRAIN_SIZE = int(0.7 * len(image_paths))\n",
    "\n",
    "class SVRCDataset(Dataset):\n",
    "    def __init__(self, image_path: list, image_class: list, transform = None):\n",
    "        self.image_path = image_path\n",
    "        self.image_class = image_class\n",
    "        self.transform = transform\n",
    "\n",
    "    def __len__(self):\n",
    "        return len(self.image_path)\n",
    "\n",
    "    def __getitem__(self, item): #can add more rules to pick data\n",
    "        img = Image.open(self.image_path[item])\n",
    "        label = self.image_class[item]\n",
    "        if self.transform is not None:\n",
    "            img = self.transform(img)\n",
    "\n",
    "        return {'feature': img, 'label': label}\n",
    "\n",
    "class TrainVal(object):\n",
    "    def __init__(self, model) -> None:\n",
    "        self.model = model\n",
    "        self.optimizer = optim.Adam(self.model.parameters(), lr=LR)\n",
    "        self.criterion = nn.CrossEntropyLoss()\n",
    "\n",
    "    def train(self, labels, features, transform, eval_intval=5):\n",
    "        # if self.model.pretrain:\n",
    "        #     self.model.train()\n",
    "        #     train = SVRCDataset(image_paths[:TRAIN_SIZE], labels[:TRAIN_SIZE], transform)\n",
    "        #     test = SVRCDataset(image_paths[TRAIN_SIZE:], labels[TRAIN_SIZE:], transform)\n",
    "        #     train_loader = DataLoader(train, batch_size = BATCH_SIZE, shuffle = True)\n",
    "        #     test_loader = DataLoader(test, batch_size = BATCH_SIZE, shuffle = True)\n",
    "\n",
    "        # else:\n",
    "        #     self.model.lstm.train()\n",
    "        #     self.model.full.train()\n",
    "        #     train = SVRCDataset(image_paths_lstm[:TRAIN_SIZE], labels_lstm[:TRAIN_SIZE], transform)\n",
    "        #     test = SVRCDataset(image_paths_lstm[TRAIN_SIZE:], labels_lstm[TRAIN_SIZE:], transform)\n",
    "        #     train_loader = DataLoader(\n",
    "        #         train, \n",
    "        #         batch_sampler=BatchSampler(SequentialSampler(train), BATCH_SIZE, drop_last=True), \n",
    "        #         shuffle = False\n",
    "        #     )\n",
    "        #     test_loader = DataLoader(\n",
    "        #         test, \n",
    "        #         batch_sampler=BatchSampler(SequentialSampler(test), BATCH_SIZE, drop_last=True), \n",
    "        #         shuffle = False\n",
    "        #     )\n",
    "        train = SVRCDataset(features[:TRAIN_SIZE], labels[:TRAIN_SIZE], transform)\n",
    "        test = SVRCDataset(features[TRAIN_SIZE:], labels[TRAIN_SIZE:], transform)\n",
    "        train_loader = DataLoader(\n",
    "            train, batch_sampler=BatchSampler(\n",
    "                RandomSampler(train) if self.model.pretrain else SequentialSampler(train), \n",
    "                BATCH_SIZE, \n",
    "                drop_last=True\n",
    "            )\n",
    "        )\n",
    "        test_loader = DataLoader(\n",
    "            test, batch_sampler=BatchSampler(\n",
    "                RandomSampler(test) if self.model.pretrain else SequentialSampler(test), \n",
    "                BATCH_SIZE, \n",
    "                drop_last=True\n",
    "            )\n",
    "        )\n",
    "\n",
    "        for epoch in range(EPOCHS):\n",
    "            lstm_eval = ~self.model.pretrain and (epoch + 1) % eval_intval == 0\n",
    "\n",
    "            if self.model.pretrain:\n",
    "                self.model.train()\n",
    "            elif not lstm_eval:\n",
    "                self.model.lstm.train()\n",
    "                self.model.full.train()\n",
    "            else:\n",
    "                self.model.eval()\n",
    "\n",
    "            train_loss = 0.0\n",
    "            train_acc = 0.0\n",
    "\n",
    "            for i, data in enumerate(train_loader):\n",
    "                features  = data['feature'].float()\n",
    "                labels = data['label']\n",
    "\n",
    "                self.optimizer.zero_grad()\n",
    "                predictions = self.model(features)\n",
    "                loss = self.criterion(predictions, labels)\n",
    "                loss.backward()\n",
    "                self.optimizer.step()\n",
    "\n",
    "                train_loss += loss.item()\n",
    "                preds = torch.max(predictions.data, 1)[1]\n",
    "                train_acc += (preds==labels).sum().item()\n",
    "\n",
    "            train_loss /= len(train)\n",
    "            train_acc /= len(train)\n",
    "\n",
    "            if self.model.pretrain:\n",
    "                print(f'Epoch {epoch+1} Training Loss: {train_loss} Train_acc: {train_acc}', end=' ')\n",
    "            else:\n",
    "                phase = 'Valid' if lstm_eval else 'Train'\n",
    "                print(f'Epoch {epoch+1} - {phase} Loss: {train_loss} Acc: {train_acc}')\n",
    "\n",
    "            if self.model.pretrain:\n",
    "                valid_loss = 0.0\n",
    "                valid_acc = 0.0\n",
    "                total = 0\n",
    "                self.model.eval()\n",
    "                for i, data in enumerate(test_loader):\n",
    "                    features = data['feature']\n",
    "                    labels = data['label']\n",
    "\n",
    "                    predictions = self.model(features)\n",
    "                    loss = self.criterion(predictions,labels)\n",
    "                    valid_loss += loss.item()\n",
    "\n",
    "                    preds = torch.max(predictions.data, 1)[1]\n",
    "                    valid_acc += (preds==labels).sum().item()\n",
    "                    total += features.size(0)\n",
    "\n",
    "                valid_loss /= len(test)\n",
    "                valid_acc /= len(test)\n",
    "\n",
    "                print(f'|| Validation Loss: {valid_loss} Valid_acc: {valid_acc}')"
   ]
  },
  {
   "cell_type": "code",
   "execution_count": 107,
   "metadata": {},
   "outputs": [],
   "source": [
    "# Weights\n",
    "WeightsPath = './models/weights'\n",
    "\n",
    "# Data\n",
    "X = image_paths_lstm\n",
    "y = labels_lstm\n",
    "\n",
    "# Transform\n",
    "# define transforms\n",
    "data_transform = {\n",
    "    \"train\": transforms.Compose([\n",
    "        transforms.Resize((32,32)),\n",
    "        transforms.ToTensor(),\n",
    "        transforms.Normalize(mean=[0.485], std=[0.229])\n",
    "    ])\n",
    "}"
   ]
  },
  {
   "cell_type": "code",
   "execution_count": 189,
   "metadata": {},
   "outputs": [
    {
     "name": "stdout",
     "output_type": "stream",
     "text": [
      "SVRC(\n",
      "  (resnet18): Sequential(\n",
      "    (0): Conv2d(3, 64, kernel_size=(7, 7), stride=(2, 2), padding=(3, 3), bias=False)\n",
      "    (1): BatchNorm2d(64, eps=1e-05, momentum=0.1, affine=True, track_running_stats=True)\n",
      "    (2): ReLU(inplace=True)\n",
      "    (3): MaxPool2d(kernel_size=3, stride=2, padding=1, dilation=1, ceil_mode=False)\n",
      "    (4): Sequential(\n",
      "      (0): BasicBlock(\n",
      "        (conv1): Conv2d(64, 64, kernel_size=(3, 3), stride=(1, 1), padding=(1, 1), bias=False)\n",
      "        (bn1): BatchNorm2d(64, eps=1e-05, momentum=0.1, affine=True, track_running_stats=True)\n",
      "        (relu): ReLU(inplace=True)\n",
      "        (conv2): Conv2d(64, 64, kernel_size=(3, 3), stride=(1, 1), padding=(1, 1), bias=False)\n",
      "        (bn2): BatchNorm2d(64, eps=1e-05, momentum=0.1, affine=True, track_running_stats=True)\n",
      "      )\n",
      "      (1): BasicBlock(\n",
      "        (conv1): Conv2d(64, 64, kernel_size=(3, 3), stride=(1, 1), padding=(1, 1), bias=False)\n",
      "        (bn1): BatchNorm2d(64, eps=1e-05, momentum=0.1, affine=True, track_running_stats=True)\n",
      "        (relu): ReLU(inplace=True)\n",
      "        (conv2): Conv2d(64, 64, kernel_size=(3, 3), stride=(1, 1), padding=(1, 1), bias=False)\n",
      "        (bn2): BatchNorm2d(64, eps=1e-05, momentum=0.1, affine=True, track_running_stats=True)\n",
      "      )\n",
      "    )\n",
      "    (5): Sequential(\n",
      "      (0): BasicBlock(\n",
      "        (conv1): Conv2d(64, 128, kernel_size=(3, 3), stride=(2, 2), padding=(1, 1), bias=False)\n",
      "        (bn1): BatchNorm2d(128, eps=1e-05, momentum=0.1, affine=True, track_running_stats=True)\n",
      "        (relu): ReLU(inplace=True)\n",
      "        (conv2): Conv2d(128, 128, kernel_size=(3, 3), stride=(1, 1), padding=(1, 1), bias=False)\n",
      "        (bn2): BatchNorm2d(128, eps=1e-05, momentum=0.1, affine=True, track_running_stats=True)\n",
      "        (downsample): Sequential(\n",
      "          (0): Conv2d(64, 128, kernel_size=(1, 1), stride=(2, 2), bias=False)\n",
      "          (1): BatchNorm2d(128, eps=1e-05, momentum=0.1, affine=True, track_running_stats=True)\n",
      "        )\n",
      "      )\n",
      "      (1): BasicBlock(\n",
      "        (conv1): Conv2d(128, 128, kernel_size=(3, 3), stride=(1, 1), padding=(1, 1), bias=False)\n",
      "        (bn1): BatchNorm2d(128, eps=1e-05, momentum=0.1, affine=True, track_running_stats=True)\n",
      "        (relu): ReLU(inplace=True)\n",
      "        (conv2): Conv2d(128, 128, kernel_size=(3, 3), stride=(1, 1), padding=(1, 1), bias=False)\n",
      "        (bn2): BatchNorm2d(128, eps=1e-05, momentum=0.1, affine=True, track_running_stats=True)\n",
      "      )\n",
      "    )\n",
      "    (6): Sequential(\n",
      "      (0): BasicBlock(\n",
      "        (conv1): Conv2d(128, 256, kernel_size=(3, 3), stride=(2, 2), padding=(1, 1), bias=False)\n",
      "        (bn1): BatchNorm2d(256, eps=1e-05, momentum=0.1, affine=True, track_running_stats=True)\n",
      "        (relu): ReLU(inplace=True)\n",
      "        (conv2): Conv2d(256, 256, kernel_size=(3, 3), stride=(1, 1), padding=(1, 1), bias=False)\n",
      "        (bn2): BatchNorm2d(256, eps=1e-05, momentum=0.1, affine=True, track_running_stats=True)\n",
      "        (downsample): Sequential(\n",
      "          (0): Conv2d(128, 256, kernel_size=(1, 1), stride=(2, 2), bias=False)\n",
      "          (1): BatchNorm2d(256, eps=1e-05, momentum=0.1, affine=True, track_running_stats=True)\n",
      "        )\n",
      "      )\n",
      "      (1): BasicBlock(\n",
      "        (conv1): Conv2d(256, 256, kernel_size=(3, 3), stride=(1, 1), padding=(1, 1), bias=False)\n",
      "        (bn1): BatchNorm2d(256, eps=1e-05, momentum=0.1, affine=True, track_running_stats=True)\n",
      "        (relu): ReLU(inplace=True)\n",
      "        (conv2): Conv2d(256, 256, kernel_size=(3, 3), stride=(1, 1), padding=(1, 1), bias=False)\n",
      "        (bn2): BatchNorm2d(256, eps=1e-05, momentum=0.1, affine=True, track_running_stats=True)\n",
      "      )\n",
      "    )\n",
      "    (7): Sequential(\n",
      "      (0): BasicBlock(\n",
      "        (conv1): Conv2d(256, 512, kernel_size=(3, 3), stride=(2, 2), padding=(1, 1), bias=False)\n",
      "        (bn1): BatchNorm2d(512, eps=1e-05, momentum=0.1, affine=True, track_running_stats=True)\n",
      "        (relu): ReLU(inplace=True)\n",
      "        (conv2): Conv2d(512, 512, kernel_size=(3, 3), stride=(1, 1), padding=(1, 1), bias=False)\n",
      "        (bn2): BatchNorm2d(512, eps=1e-05, momentum=0.1, affine=True, track_running_stats=True)\n",
      "        (downsample): Sequential(\n",
      "          (0): Conv2d(256, 512, kernel_size=(1, 1), stride=(2, 2), bias=False)\n",
      "          (1): BatchNorm2d(512, eps=1e-05, momentum=0.1, affine=True, track_running_stats=True)\n",
      "        )\n",
      "      )\n",
      "      (1): BasicBlock(\n",
      "        (conv1): Conv2d(512, 512, kernel_size=(3, 3), stride=(1, 1), padding=(1, 1), bias=False)\n",
      "        (bn1): BatchNorm2d(512, eps=1e-05, momentum=0.1, affine=True, track_running_stats=True)\n",
      "        (relu): ReLU(inplace=True)\n",
      "        (conv2): Conv2d(512, 512, kernel_size=(3, 3), stride=(1, 1), padding=(1, 1), bias=False)\n",
      "        (bn2): BatchNorm2d(512, eps=1e-05, momentum=0.1, affine=True, track_running_stats=True)\n",
      "      )\n",
      "    )\n",
      "    (8): AdaptiveAvgPool2d(output_size=(1, 1))\n",
      "  )\n",
      "  (lstm): LSTM(512, 512)\n",
      "  (full): Linear(in_features=512, out_features=17, bias=True)\n",
      ")\n",
      "Epoch 1 Training Loss: 0.029225896939635277 Validation Loss: 0.018382076823965032 || Train_acc: 0.73475 Valid_acc: 0.8553191489361702\n",
      "Epoch 2 Training Loss: 0.06007887310534716 Validation Loss: 0.0464607614151975 || Train_acc: 0.42025 Valid_acc: 0.5297872340425532\n",
      "Epoch 3 Training Loss: 0.03570506901293993 Validation Loss: 0.03386266561264687 || Train_acc: 0.6425 Valid_acc: 0.6638297872340425\n",
      "Epoch 4 Training Loss: 0.023410091571509837 Validation Loss: 0.01813723216665552 || Train_acc: 0.7735 Valid_acc: 0.825531914893617\n",
      "Epoch 5 Training Loss: 0.01595895154774189 Validation Loss: 0.013498353799606892 || Train_acc: 0.845 Valid_acc: 0.8872340425531915\n",
      "Time:7.8min\n"
     ]
    }
   ],
   "source": [
    "# # resnet18 Model\n",
    "# model = SVRC()\n",
    "# print(model)\n",
    "\n",
    "# start_time = time.time()\n",
    "\n",
    "# trainer = TrainVal(model)\n",
    "# trainer.train(y, X, data_transform['train'])\n",
    "# torch.save(model.state_dict(),WeightsPath)\n",
    "\n",
    "# end_time = time.time()\n",
    "# print('Time:{:.2}min'.format((end_time-start_time)/60.0))"
   ]
  },
  {
   "cell_type": "code",
   "execution_count": 108,
   "metadata": {},
   "outputs": [
    {
     "name": "stdout",
     "output_type": "stream",
     "text": [
      "SVRC(\n",
      "  (resnet18): Sequential(\n",
      "    (0): Conv2d(3, 64, kernel_size=(7, 7), stride=(2, 2), padding=(3, 3), bias=False)\n",
      "    (1): BatchNorm2d(64, eps=1e-05, momentum=0.1, affine=True, track_running_stats=True)\n",
      "    (2): ReLU(inplace=True)\n",
      "    (3): MaxPool2d(kernel_size=3, stride=2, padding=1, dilation=1, ceil_mode=False)\n",
      "    (4): Sequential(\n",
      "      (0): BasicBlock(\n",
      "        (conv1): Conv2d(64, 64, kernel_size=(3, 3), stride=(1, 1), padding=(1, 1), bias=False)\n",
      "        (bn1): BatchNorm2d(64, eps=1e-05, momentum=0.1, affine=True, track_running_stats=True)\n",
      "        (relu): ReLU(inplace=True)\n",
      "        (conv2): Conv2d(64, 64, kernel_size=(3, 3), stride=(1, 1), padding=(1, 1), bias=False)\n",
      "        (bn2): BatchNorm2d(64, eps=1e-05, momentum=0.1, affine=True, track_running_stats=True)\n",
      "      )\n",
      "      (1): BasicBlock(\n",
      "        (conv1): Conv2d(64, 64, kernel_size=(3, 3), stride=(1, 1), padding=(1, 1), bias=False)\n",
      "        (bn1): BatchNorm2d(64, eps=1e-05, momentum=0.1, affine=True, track_running_stats=True)\n",
      "        (relu): ReLU(inplace=True)\n",
      "        (conv2): Conv2d(64, 64, kernel_size=(3, 3), stride=(1, 1), padding=(1, 1), bias=False)\n",
      "        (bn2): BatchNorm2d(64, eps=1e-05, momentum=0.1, affine=True, track_running_stats=True)\n",
      "      )\n",
      "    )\n",
      "    (5): Sequential(\n",
      "      (0): BasicBlock(\n",
      "        (conv1): Conv2d(64, 128, kernel_size=(3, 3), stride=(2, 2), padding=(1, 1), bias=False)\n",
      "        (bn1): BatchNorm2d(128, eps=1e-05, momentum=0.1, affine=True, track_running_stats=True)\n",
      "        (relu): ReLU(inplace=True)\n",
      "        (conv2): Conv2d(128, 128, kernel_size=(3, 3), stride=(1, 1), padding=(1, 1), bias=False)\n",
      "        (bn2): BatchNorm2d(128, eps=1e-05, momentum=0.1, affine=True, track_running_stats=True)\n",
      "        (downsample): Sequential(\n",
      "          (0): Conv2d(64, 128, kernel_size=(1, 1), stride=(2, 2), bias=False)\n",
      "          (1): BatchNorm2d(128, eps=1e-05, momentum=0.1, affine=True, track_running_stats=True)\n",
      "        )\n",
      "      )\n",
      "      (1): BasicBlock(\n",
      "        (conv1): Conv2d(128, 128, kernel_size=(3, 3), stride=(1, 1), padding=(1, 1), bias=False)\n",
      "        (bn1): BatchNorm2d(128, eps=1e-05, momentum=0.1, affine=True, track_running_stats=True)\n",
      "        (relu): ReLU(inplace=True)\n",
      "        (conv2): Conv2d(128, 128, kernel_size=(3, 3), stride=(1, 1), padding=(1, 1), bias=False)\n",
      "        (bn2): BatchNorm2d(128, eps=1e-05, momentum=0.1, affine=True, track_running_stats=True)\n",
      "      )\n",
      "    )\n",
      "    (6): Sequential(\n",
      "      (0): BasicBlock(\n",
      "        (conv1): Conv2d(128, 256, kernel_size=(3, 3), stride=(2, 2), padding=(1, 1), bias=False)\n",
      "        (bn1): BatchNorm2d(256, eps=1e-05, momentum=0.1, affine=True, track_running_stats=True)\n",
      "        (relu): ReLU(inplace=True)\n",
      "        (conv2): Conv2d(256, 256, kernel_size=(3, 3), stride=(1, 1), padding=(1, 1), bias=False)\n",
      "        (bn2): BatchNorm2d(256, eps=1e-05, momentum=0.1, affine=True, track_running_stats=True)\n",
      "        (downsample): Sequential(\n",
      "          (0): Conv2d(128, 256, kernel_size=(1, 1), stride=(2, 2), bias=False)\n",
      "          (1): BatchNorm2d(256, eps=1e-05, momentum=0.1, affine=True, track_running_stats=True)\n",
      "        )\n",
      "      )\n",
      "      (1): BasicBlock(\n",
      "        (conv1): Conv2d(256, 256, kernel_size=(3, 3), stride=(1, 1), padding=(1, 1), bias=False)\n",
      "        (bn1): BatchNorm2d(256, eps=1e-05, momentum=0.1, affine=True, track_running_stats=True)\n",
      "        (relu): ReLU(inplace=True)\n",
      "        (conv2): Conv2d(256, 256, kernel_size=(3, 3), stride=(1, 1), padding=(1, 1), bias=False)\n",
      "        (bn2): BatchNorm2d(256, eps=1e-05, momentum=0.1, affine=True, track_running_stats=True)\n",
      "      )\n",
      "    )\n",
      "    (7): Sequential(\n",
      "      (0): BasicBlock(\n",
      "        (conv1): Conv2d(256, 512, kernel_size=(3, 3), stride=(2, 2), padding=(1, 1), bias=False)\n",
      "        (bn1): BatchNorm2d(512, eps=1e-05, momentum=0.1, affine=True, track_running_stats=True)\n",
      "        (relu): ReLU(inplace=True)\n",
      "        (conv2): Conv2d(512, 512, kernel_size=(3, 3), stride=(1, 1), padding=(1, 1), bias=False)\n",
      "        (bn2): BatchNorm2d(512, eps=1e-05, momentum=0.1, affine=True, track_running_stats=True)\n",
      "        (downsample): Sequential(\n",
      "          (0): Conv2d(256, 512, kernel_size=(1, 1), stride=(2, 2), bias=False)\n",
      "          (1): BatchNorm2d(512, eps=1e-05, momentum=0.1, affine=True, track_running_stats=True)\n",
      "        )\n",
      "      )\n",
      "      (1): BasicBlock(\n",
      "        (conv1): Conv2d(512, 512, kernel_size=(3, 3), stride=(1, 1), padding=(1, 1), bias=False)\n",
      "        (bn1): BatchNorm2d(512, eps=1e-05, momentum=0.1, affine=True, track_running_stats=True)\n",
      "        (relu): ReLU(inplace=True)\n",
      "        (conv2): Conv2d(512, 512, kernel_size=(3, 3), stride=(1, 1), padding=(1, 1), bias=False)\n",
      "        (bn2): BatchNorm2d(512, eps=1e-05, momentum=0.1, affine=True, track_running_stats=True)\n",
      "      )\n",
      "    )\n",
      "    (8): AdaptiveAvgPool2d(output_size=(1, 1))\n",
      "  )\n",
      "  (lstm): LSTM(512, 512)\n",
      "  (full): Linear(in_features=512, out_features=17, bias=True)\n",
      ")\n",
      "Epoch 1 - Train Loss: 0.10518755084770016 Acc: 0.23837209302325582\n",
      "Epoch 2 - Train Loss: 0.07035950761894848 Acc: 0.39171511627906974\n",
      "Epoch 3 - Train Loss: 0.06716053854934005 Acc: 0.40334302325581395\n",
      "Epoch 4 - Train Loss: 0.06636737689895686 Acc: 0.40334302325581395\n",
      "Epoch 5 - Valid Loss: 0.06605390446303888 Acc: 0.3997093023255814\n",
      "Time:2.4min\n"
     ]
    }
   ],
   "source": [
    "# SVRC Model\n",
    "model = SVRC()\n",
    "print(model)\n",
    "\n",
    "model.pretrain = False\n",
    "model.load_state_dict(torch.load(WeightsPath))\n",
    "\n",
    "start_time = time.time()\n",
    "\n",
    "trainer = TrainVal(model)\n",
    "trainer.train(y, X, data_transform['train'])\n",
    "\n",
    "end_time = time.time()\n",
    "print('Time:{:.2}min'.format((end_time-start_time)/60.0))"
   ]
  },
  {
   "cell_type": "markdown",
   "metadata": {},
   "source": [
    "## Experiments"
   ]
  },
  {
   "cell_type": "code",
   "execution_count": 2,
   "metadata": {},
   "outputs": [
    {
     "name": "stdout",
     "output_type": "stream",
     "text": [
      "None\n"
     ]
    }
   ],
   "source": [
    "from models.SVRCNet.svrc import SVRC\n",
    "from utils.trainer import ResnetTrainVal, LstmTrainVal\n",
    "from utils.sortimages import sort_images\n",
    "from utils.read_videos import read\n",
    "from torchvision import transforms\n",
    "\n",
    "import torch\n",
    "import numpy as np\n",
    "import time\n",
    "import os\n",
    "\n",
    "from main import main, train, test\n",
    "from config import *\n",
    "\n",
    "%load_ext autoreload\n",
    "%autoreload 2\n",
    "print(torch.version.cuda)"
   ]
  },
  {
   "cell_type": "code",
   "execution_count": 3,
   "metadata": {},
   "outputs": [],
   "source": [
    "X = sum(image_paths[:1], [])\n",
    "y = sum(labels[:1], [])\n",
    "X_test = sum(image_paths[1:2], [])\n",
    "y_test = sum(labels[1:2], [])"
   ]
  },
  {
   "cell_type": "code",
   "execution_count": null,
   "metadata": {},
   "outputs": [],
   "source": [
    "hist_train = train(y, X, (X_test, y_test), pretrain=True)"
   ]
  },
  {
   "cell_type": "code",
   "execution_count": null,
   "metadata": {},
   "outputs": [],
   "source": [
    "hist_train = train(y, X, (X_test, y_test), pretrain=False)"
   ]
  },
  {
   "cell_type": "code",
   "execution_count": null,
   "metadata": {},
   "outputs": [],
   "source": []
  }
 ],
 "metadata": {
  "interpreter": {
   "hash": "7bb744823c5315bc838d6f85bb474c2716845bb0b4d758ac389cca5a4bd648da"
  },
  "kernelspec": {
   "display_name": "Python 3 (ipykernel)",
   "language": "python",
   "name": "python3"
  },
  "language_info": {
   "codemirror_mode": {
    "name": "ipython",
    "version": 3
   },
   "file_extension": ".py",
   "mimetype": "text/x-python",
   "name": "python",
   "nbconvert_exporter": "python",
   "pygments_lexer": "ipython3",
   "version": "3.9.7"
  }
 },
 "nbformat": 4,
 "nbformat_minor": 2
}
